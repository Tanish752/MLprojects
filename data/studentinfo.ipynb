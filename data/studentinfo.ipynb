{
 "cells": [
  {
   "cell_type": "code",
   "execution_count": null,
   "id": "9b4f6662",
   "metadata": {},
   "outputs": [],
   "source": [
    "import numpy as np\n",
    "import pandas as pd\n",
    "import seaborn as sns\n",
    "import matplotlib.pyplot as plt\n",
    "%matplotlib inline\n",
    "import warnings\n",
    "warnings.filterwarnings('ignore')"
   ]
  },
  {
   "cell_type": "code",
   "execution_count": null,
   "id": "e5c9ee4d",
   "metadata": {},
   "outputs": [],
   "source": [
    "# Load the dataset\n",
    "df = pd.read_csv(r\"C:\\Users\\tanis\\Downloads\\stud.csv\")"
   ]
  },
  {
   "cell_type": "code",
   "execution_count": null,
   "id": "10c02736",
   "metadata": {},
   "outputs": [],
   "source": [
    "df.head()"
   ]
  },
  {
   "cell_type": "code",
   "execution_count": null,
   "id": "9040cfdc",
   "metadata": {},
   "outputs": [],
   "source": [
    "df.isnull().sum()"
   ]
  },
  {
   "cell_type": "code",
   "execution_count": null,
   "id": "3c8c31bc",
   "metadata": {},
   "outputs": [],
   "source": [
    "df.duplicated().sum()"
   ]
  },
  {
   "cell_type": "code",
   "execution_count": null,
   "id": "45a01edc",
   "metadata": {},
   "outputs": [],
   "source": [
    "df.info()\n",
    "df = df[df['math_score']>0]"
   ]
  },
  {
   "cell_type": "code",
   "execution_count": null,
   "id": "f8c0dc54",
   "metadata": {},
   "outputs": [],
   "source": [
    "df.nunique()"
   ]
  },
  {
   "cell_type": "code",
   "execution_count": null,
   "id": "c1f8fee6",
   "metadata": {},
   "outputs": [],
   "source": [
    "df['total_score'] = df['math_score'] + df['reading_score'] + df['writing_score']\n",
    "df['average_score'] = df['total_score'] / 3"
   ]
  },
  {
   "cell_type": "code",
   "execution_count": null,
   "id": "c7aec79a",
   "metadata": {},
   "outputs": [],
   "source": [
    "df.head()\n",
    "df.parental_level_of_education.unique()"
   ]
  },
  {
   "cell_type": "code",
   "execution_count": null,
   "id": "739f917f",
   "metadata": {},
   "outputs": [],
   "source": [
    "df.gender = df['gender'].map({'female': 0,'male': 1})\n",
    "df. lunch = df['lunch'].map({'standard': 0,'free/reduced': 1})\n",
    "df.test_preparation_course = df['test_preparation_course'].map({'none': 0,'completed': 1})\n",
    "df.race_ethnicity = df['race_ethnicity'].map({'group A': 0, 'group B': 1, 'group C': 2, 'group D': 3, 'group E': 4})\n",
    "df['parental_level_of_education'] = df['parental_level_of_education'].map({\n",
    "\t'some high school': 0,'high school': 1,'some college':2,'associate\\'s degree': 3,'bachelor\\'s degree': 4,'master\\'s degree': 5,})\n",
    "# df['parental_level_of_education'] = df['parental_level_of_education'].rank( ascending=True, method='dense').astype(int) \n",
    "df\n"
   ]
  },
  {
   "cell_type": "code",
   "execution_count": null,
   "id": "e6204334",
   "metadata": {},
   "outputs": [],
   "source": [
    "# plt.scatter(x='parental_level_of_education', y='math_score', data=df, color='blue')\n",
    "sns.boxplot(x='parental_level_of_education', y='math_score', data=df)"
   ]
  },
  {
   "cell_type": "code",
   "execution_count": null,
   "id": "ff9cacfb",
   "metadata": {},
   "outputs": [],
   "source": [
    "sns.heatmap(df.corr(), annot=True, cmap='coolwarm', fmt='.2f')"
   ]
  },
  {
   "cell_type": "code",
   "execution_count": null,
   "id": "a736035f",
   "metadata": {},
   "outputs": [],
   "source": [
    "df2 = df.drop(columns=['total_score','average_score'],axis=1)\n",
    "sns.heatmap(df2, annot=True, cmap='coolwarm', linewidths=0.5)"
   ]
  },
  {
   "cell_type": "code",
   "execution_count": null,
   "id": "9567b7f1",
   "metadata": {},
   "outputs": [],
   "source": [
    "plt.figure(figsize=(10, 6))\n",
    "plt.scatter(x='parental_level_of_education', y='math_score', data=df, color='blue')"
   ]
  },
  {
   "cell_type": "code",
   "execution_count": null,
   "id": "00c016e0",
   "metadata": {},
   "outputs": [],
   "source": [
    "df.head(2)"
   ]
  },
  {
   "cell_type": "code",
   "execution_count": null,
   "id": "14f5cefd",
   "metadata": {},
   "outputs": [],
   "source": [
    "from sklearn.model_selection import train_test_split\n",
    "from sklearn.linear_model import LinearRegression\n",
    "from sklearn.metrics import mean_squared_error, r2_score\n",
    "from sklearn.preprocessing import StandardScaler\n",
    "from sklearn.model_selection import cross_val_score\n"
   ]
  },
  {
   "cell_type": "code",
   "execution_count": null,
   "id": "825eed7c",
   "metadata": {},
   "outputs": [],
   "source": [
    "# X = X = df.drop(columns=['math_score','total_score','average_score'],axis=1)\n",
    "X=df[['reading_score', 'writing_score', 'race_ethnicity']]\n",
    "y = df['math_score']\n",
    "print(X.shape)\n",
    "print(len(y))"
   ]
  },
  {
   "cell_type": "code",
   "execution_count": null,
   "id": "d844f8e4",
   "metadata": {},
   "outputs": [],
   "source": [
    "X_train, X_test, y_train, y_test = train_test_split(X, y, test_size=0.20, random_state=42)"
   ]
  },
  {
   "cell_type": "code",
   "execution_count": null,
   "id": "951b94fa",
   "metadata": {},
   "outputs": [],
   "source": [
    "scaler = StandardScaler()\n",
    "X_train= scaler.fit_transform(X_train)\n",
    "X_test = scaler.transform(X_test)"
   ]
  },
  {
   "cell_type": "code",
   "execution_count": null,
   "id": "a25c0c77",
   "metadata": {},
   "outputs": [],
   "source": [
    "regression = LinearRegression()"
   ]
  },
  {
   "cell_type": "code",
   "execution_count": null,
   "id": "8dc2d0bd",
   "metadata": {},
   "outputs": [],
   "source": []
  },
  {
   "cell_type": "code",
   "execution_count": null,
   "id": "bb89fd54",
   "metadata": {},
   "outputs": [],
   "source": [
    "regression.fit(X, y)"
   ]
  },
  {
   "cell_type": "code",
   "execution_count": null,
   "id": "0b97ec51",
   "metadata": {},
   "outputs": [],
   "source": [
    "cross_val_scores = cross_val_score(regression, X_train, y_train, cv=5, scoring='neg_mean_squared_error')"
   ]
  },
  {
   "cell_type": "code",
   "execution_count": null,
   "id": "c8aa7198",
   "metadata": {},
   "outputs": [],
   "source": [
    "mse = np.mean(cross_val_scores)\n",
    "mse"
   ]
  },
  {
   "cell_type": "code",
   "execution_count": null,
   "id": "183dd64f",
   "metadata": {},
   "outputs": [],
   "source": [
    "reg_pred = regression.predict(X_test)"
   ]
  },
  {
   "cell_type": "code",
   "execution_count": null,
   "id": "5ca171f0",
   "metadata": {},
   "outputs": [],
   "source": [
    "sns.displot(reg_pred-y_test, color='blue', kde=True)"
   ]
  },
  {
   "cell_type": "code",
   "execution_count": null,
   "id": "d09bdb66",
   "metadata": {},
   "outputs": [],
   "source": [
    "score = r2_score(y_test, reg_pred)\n",
    "score"
   ]
  },
  {
   "cell_type": "code",
   "execution_count": null,
   "id": "001fc2b4",
   "metadata": {},
   "outputs": [],
   "source": [
    "plt.scatter(y_test, reg_pred, color='red')\n",
    "plt.show()\t"
   ]
  },
  {
   "cell_type": "code",
   "execution_count": null,
   "id": "032fa880",
   "metadata": {},
   "outputs": [],
   "source": [
    "from sklearn.metrics import mean_absolute_percentage_error\n",
    "mean_absolute_percentage_error(y_test, reg_pred) "
   ]
  },
  {
   "cell_type": "code",
   "execution_count": null,
   "id": "156b8c2d",
   "metadata": {},
   "outputs": [],
   "source": [
    "regression.coef_"
   ]
  },
  {
   "cell_type": "code",
   "execution_count": null,
   "id": "b2e181bb",
   "metadata": {},
   "outputs": [],
   "source": [
    "X=df[['reading_score', 'writing_score', 'race_ethnicity']]"
   ]
  },
  {
   "cell_type": "code",
   "execution_count": null,
   "id": "5e955aac",
   "metadata": {},
   "outputs": [],
   "source": [
    "from sklearn.metrics import mean_absolute_error\n",
    "mean_absolute_error(y_test, reg_pred) "
   ]
  },
  {
   "cell_type": "code",
   "execution_count": null,
   "id": "51e93e2d",
   "metadata": {},
   "outputs": [],
   "source": []
  }
 ],
 "metadata": {
  "kernelspec": {
   "display_name": "Python 3",
   "language": "python",
   "name": "python3"
  },
  "language_info": {
   "codemirror_mode": {
    "name": "ipython",
    "version": 3
   },
   "file_extension": ".py",
   "mimetype": "text/x-python",
   "name": "python",
   "nbconvert_exporter": "python",
   "pygments_lexer": "ipython3",
   "version": "3.13.0"
  }
 },
 "nbformat": 4,
 "nbformat_minor": 5
}
